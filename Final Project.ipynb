{
 "cells": [
  {
   "cell_type": "code",
   "execution_count": 119,
   "id": "2d8a9a3a",
   "metadata": {},
   "outputs": [],
   "source": [
    "# Load neccessary libraries\n",
    "\n",
    "import pandas as pd\n",
    "import numpy as np\n",
    "from sklearn.model_selection import train_test_split\n",
    "from sklearn.model_selection import KFold\n",
    "from sklearn.model_selection import cross_val_score\n",
    "from sklearn.neighbors import KNeighborsClassifier\n",
    "from sklearn.neighbors import KNeighborsRegressor\n",
    "from sklearn.tree import DecisionTreeClassifier\n",
    "from sklearn.tree import DecisionTreeRegressor\n",
    "from sklearn.metrics import accuracy_score\n",
    "from sklearn.metrics import mean_squared_error\n",
    "from sklearn.metrics import mean_absolute_error\n",
    "from sklearn.metrics import confusion_matrix\n",
    "from sklearn.metrics import f1_score\n",
    "from sklearn.preprocessing import MinMaxScaler\n",
    "from sklearn.preprocessing import StandardScaler\n",
    "from sklearn import preprocessing\n",
    "import matplotlib.pyplot as plt\n",
    "from sklearn.preprocessing import LabelEncoder\n",
    "from sklearn.preprocessing import OneHotEncoder\n",
    "from sklearn.feature_selection import VarianceThreshold\n",
    "from sklearn.feature_selection import SelectKBest\n",
    "from sklearn.feature_selection import chi2\n",
    "from sklearn.feature_selection import SelectFromModel\n",
    "from imblearn.over_sampling import SMOTE\n",
    "from sklearn.model_selection import GridSearchCV\n",
    "import datetime as dt\n",
    "from sklearn.decomposition import PCA\n",
    "from sklearn.preprocessing import StandardScaler\n",
    "import itertools\n",
    "from sklearn.metrics import confusion_matrix, ConfusionMatrixDisplay\n",
    "import seaborn as sns"
   ]
  },
  {
   "cell_type": "markdown",
   "id": "c230bec9",
   "metadata": {},
   "source": [
    "## Load dataset"
   ]
  },
  {
   "cell_type": "code",
   "execution_count": 88,
   "id": "5ef98b7e",
   "metadata": {},
   "outputs": [],
   "source": [
    "auto_train = pd.read_csv(\"C:/Users/Hp/Desktop/MSC 550/auto_policies_2020.csv\")\n",
    "auto_test = pd.read_csv(\"C:/Users/Hp/Desktop/MSC 550/auto_potential_customers_2022.csv\")"
   ]
  },
  {
   "cell_type": "code",
   "execution_count": 89,
   "id": "faecd348",
   "metadata": {},
   "outputs": [
    {
     "data": {
      "text/plain": [
       "pol_number            0\n",
       "pol_eff_dt            0\n",
       "gender                0\n",
       "agecat             4831\n",
       "date_of_birth         0\n",
       "credit_score       2801\n",
       "area                  0\n",
       "traffic_index      3503\n",
       "veh_age               0\n",
       "veh_body              0\n",
       "veh_value             0\n",
       "claim_office      50362\n",
       "numclaims             0\n",
       "claimcst0             0\n",
       "annual_premium        0\n",
       "dtype: int64"
      ]
     },
     "execution_count": 89,
     "metadata": {},
     "output_type": "execute_result"
    }
   ],
   "source": [
    "auto_train.isnull().sum()"
   ]
  },
  {
   "cell_type": "code",
   "execution_count": 90,
   "id": "49221b56",
   "metadata": {},
   "outputs": [
    {
     "data": {
      "text/plain": [
       "quote_number       0\n",
       "gender             0\n",
       "agecat           632\n",
       "date_of_birth      0\n",
       "credit_score     355\n",
       "area               0\n",
       "traffic_index    449\n",
       "veh_age            0\n",
       "veh_body           0\n",
       "veh_value          0\n",
       "dtype: int64"
      ]
     },
     "execution_count": 90,
     "metadata": {},
     "output_type": "execute_result"
    }
   ],
   "source": [
    "auto_test.isnull().sum()"
   ]
  },
  {
   "cell_type": "code",
   "execution_count": 91,
   "id": "e3757768",
   "metadata": {},
   "outputs": [],
   "source": [
    "#drop columns that are not in the test dataset \n",
    "#since the information cannot be obtained unless the customers acquire an insurance policy\n",
    "# pol_number and quote_number cannot be compared hence drop\n",
    "auto_train = auto_train.drop(['pol_number','pol_eff_dt', 'claim_office', 'annual_premium'], axis = 1)\n",
    "auto_test = auto_test.drop(['quote_number'], axis = 1)"
   ]
  },
  {
   "cell_type": "code",
   "execution_count": 92,
   "id": "386d8339",
   "metadata": {
    "scrolled": true
   },
   "outputs": [],
   "source": [
    "# define agecat creteria\n",
    "auto_train.loc[auto_train['agecat'] == 1]\n",
    "auto_train.loc[auto_train['agecat'] == 2]\n",
    "auto_train.loc[auto_train['agecat'] == 3]\n",
    "auto_train.loc[auto_train['agecat'] == 4]\n",
    "auto_train.loc[auto_train['agecat'] == 5]\n",
    "auto_train.loc[auto_train['agecat'] == 6]\n",
    "\n",
    "# Formating the date column to be a readable data in python using .to_datetime() function\n",
    "auto_train['date_of_birth']= pd.to_datetime(auto_train['date_of_birth'])\n",
    "auto_test['date_of_birth']= pd.to_datetime(auto_test['date_of_birth'])\n",
    "\n",
    "# Created columns based on column using date time package.\n",
    "auto_train['year']= auto_train['date_of_birth'].dt.year\n",
    "auto_test['year']= auto_test['date_of_birth'].dt.year"
   ]
  },
  {
   "cell_type": "code",
   "execution_count": 93,
   "id": "2209c858",
   "metadata": {},
   "outputs": [],
   "source": [
    "# Binned values for training data\n",
    "binned_values = []\n",
    "\n",
    "# Creating the bins using an if-else statement\n",
    "for value in auto_train['year']:\n",
    "    if value <= 1949:\n",
    "        new_agecat = \"6\"\n",
    "    elif value > 1949 and value <= 1959:\n",
    "        new_agecat = \"5\"\n",
    "    elif value > 1959 and value <= 1969:\n",
    "        new_agecat = \"4\"\n",
    "    elif value > 1969 and value <= 1979:\n",
    "        new_agecat = \"3\"\n",
    "    elif value > 1979 and value <= 1989:\n",
    "        new_agecat = \"2\"\n",
    "    else:\n",
    "        new_agecat = \"1\"\n",
    "    binned_values.append(new_agecat)\n",
    "auto_train['new_cat'] = binned_values\n",
    "\n",
    "# Binned values for test data\n",
    "binned_values = []\n",
    "\n",
    "# Creating the bins using an if-else statement\n",
    "for value in auto_test['year']:\n",
    "    if value <= 1949:\n",
    "        new_agecat = \"6\"\n",
    "    elif value > 1949 and value <= 1959:\n",
    "        new_agecat = \"5\"\n",
    "    elif value > 1959 and value <= 1969:\n",
    "        new_agecat = \"4\"\n",
    "    elif value > 1969 and value <= 1979:\n",
    "        new_agecat = \"3\"\n",
    "    elif value > 1979 and value <= 1989:\n",
    "        new_agecat = \"2\"\n",
    "    else:\n",
    "        new_agecat = \"1\"\n",
    "    binned_values.append(new_agecat)\n",
    "auto_test['new_cat'] = binned_values"
   ]
  },
  {
   "cell_type": "code",
   "execution_count": 94,
   "id": "82500943",
   "metadata": {},
   "outputs": [],
   "source": [
    "auto_train = auto_train.drop(['agecat', 'date_of_birth', 'year'], axis = 1)\n",
    "auto_test = auto_test.drop(['agecat', 'date_of_birth', 'year'], axis = 1)\n",
    "\n",
    "le = preprocessing.LabelEncoder()\n",
    "auto_train['area'] = le.fit_transform(auto_train['area'])\n",
    "auto_train['veh_body'] = le.fit_transform(auto_train['veh_body'])\n",
    "auto_train['gender'] = le.fit_transform(auto_train['gender'])\n",
    "                                          \n",
    "auto_test['area'] = le.fit_transform(auto_test['area'])\n",
    "auto_test['veh_body'] = le.fit_transform(auto_test['veh_body'])\n",
    "auto_test['gender'] = le.fit_transform(auto_test['gender'])\n",
    "\n",
    "# Fill only the Pclass column using a backfill\n",
    "auto_train['traffic_index'] = auto_train['traffic_index'].fillna(method=\"bfill\")\n",
    "auto_test['traffic_index'] = auto_test['traffic_index'].fillna(method=\"bfill\")\n",
    "\n",
    "# Fill only the Pclass column using the mean of the Age column\n",
    "auto_train['credit_score'] = auto_train['credit_score'].fillna(auto_train['credit_score'].mean())\n",
    "auto_test['credit_score'] = auto_test['credit_score'].fillna(auto_test['credit_score'].mean())"
   ]
  },
  {
   "cell_type": "code",
   "execution_count": 105,
   "id": "f1990d58",
   "metadata": {},
   "outputs": [
    {
     "name": "stdout",
     "output_type": "stream",
     "text": [
      "34316\n",
      "26076\n"
     ]
    },
    {
     "data": {
      "text/plain": [
       "<function matplotlib.pyplot.show(close=None, block=None)>"
      ]
     },
     "execution_count": 105,
     "metadata": {},
     "output_type": "execute_result"
    },
    {
     "data": {
      "image/png": "[encoded data removed]",
      "text/plain": [
       "<Figure size 432x288 with 1 Axes>"
      ]
     },
     "metadata": {},
     "output_type": "display_data"
    }
   ],
   "source": [
    "## GENDER VISUALIZATION\n",
    "male = (auto_train['gender'].values == 0).sum()\n",
    "print(y)\n",
    "female = (auto_train['gender'].values == 1).sum()\n",
    "print(x)\n",
    "gender = ['male', 'female']\n",
    "z = np.array([34316, 26076])\n",
    "plt.pie(z, labels = gender)\n",
    "plt.show"
   ]
  },
  {
   "cell_type": "markdown",
   "id": "720aab90",
   "metadata": {},
   "source": [
    "## VISUALIZATION OF IMBALANCED NUMCLAIMS COLUMN"
   ]
  },
  {
   "cell_type": "code",
   "execution_count": 9,
   "id": "51ab26cb",
   "metadata": {},
   "outputs": [
    {
     "data": {
      "image/png": "[encoded data removed]",
      "text/plain": [
       "<Figure size 432x288 with 1 Axes>"
      ]
     },
     "metadata": {
      "needs_background": "light"
     },
     "output_type": "display_data"
    }
   ],
   "source": [
    "numclaims_unique = auto_train['numclaims'].unique() #define x axis\n",
    "numclaims_values =auto_train['numclaims'].value_counts() # define y axis\n",
    "\n",
    "plt.bar(numclaims_unique , numclaims_values, color ='maroon',\n",
    "        width = 0.4)\n",
    " \n",
    "plt.xlabel(\"numclaims.unique\")\n",
    "plt.ylabel(\"numclaims.value_count\")\n",
    "plt.title(\"Imbalanced numclaims visualization\")\n",
    "plt.show()"
   ]
  },
  {
   "cell_type": "markdown",
   "id": "72ec5f3c",
   "metadata": {},
   "source": [
    "## 1a) Predicting number of claims on the original dataset"
   ]
  },
  {
   "cell_type": "code",
   "execution_count": 10,
   "id": "7d243223",
   "metadata": {},
   "outputs": [],
   "source": [
    "#Define x and y, training and test datasets\n",
    "x = auto_train.drop(['numclaims', 'claimcst0'], axis = 1)\n",
    "y1 = auto_train.numclaims"
   ]
  },
  {
   "cell_type": "markdown",
   "id": "ecf8899f",
   "metadata": {},
   "source": [
    "# Using KNN Classifier - Cross validation"
   ]
  },
  {
   "cell_type": "code",
   "execution_count": 11,
   "id": "ce1553cb",
   "metadata": {},
   "outputs": [
    {
     "data": {
      "image/png": "[encoded data removed]",
      "text/plain": [
       "<Figure size 432x288 with 2 Axes>"
      ]
     },
     "metadata": {
      "needs_background": "light"
     },
     "output_type": "display_data"
    }
   ],
   "source": [
    "# Initiate the scaler\n",
    "scaler = MinMaxScaler()\n",
    "\n",
    "# Fit/transform to training data data\n",
    "x_scaled = scaler.fit_transform(x)\n",
    "\n",
    "knn = KNeighborsClassifier(n_neighbors = 5) # choose algorithm to use\n",
    "knn.fit(x_scaled, y1) # fit the algorithim in the dataset\n",
    "predictions = knn.predict(x_scaled) # use x to predict y after fitting the data\n",
    "\n",
    "labels = list(y1.unique()) # labels for confusion matrix\n",
    "cm = confusion_matrix(y1, predictions) #confusion matrix\n",
    "pd.DataFrame(cm, index = labels, columns = labels)\n",
    "\n",
    "disp = ConfusionMatrixDisplay(confusion_matrix=cm, display_labels=numclaims_unique)\n",
    "disp.plot()\n",
    "plt.show()"
   ]
  },
  {
   "cell_type": "code",
   "execution_count": 12,
   "id": "b01e341e",
   "metadata": {},
   "outputs": [
    {
     "name": "stdout",
     "output_type": "stream",
     "text": [
      "0.8646012716916148\n",
      "0.892944900987691 f1_score\n"
     ]
    }
   ],
   "source": [
    "# Computing accuracy score i.e. total correct predictions divided by total number of observations\n",
    "print(accuracy_score(y1, predictions))\n",
    "print(f1_score(predictions, y1, average = 'weighted'), \"f1_score\")"
   ]
  },
  {
   "cell_type": "code",
   "execution_count": 13,
   "id": "cdc4e170",
   "metadata": {},
   "outputs": [
    {
     "data": {
      "text/plain": [
       "0.834183562911714"
      ]
     },
     "execution_count": 13,
     "metadata": {},
     "output_type": "execute_result"
    }
   ],
   "source": [
    "cv = KFold(n_splits=10, random_state=1, shuffle=True) #prepare cross validation procedure\n",
    "scores = cross_val_score(knn, x_scaled, y1, scoring='accuracy', cv=cv) # get the scores\n",
    "np.mean(scores)"
   ]
  },
  {
   "cell_type": "markdown",
   "id": "5599e1dd",
   "metadata": {},
   "source": [
    "# Using KNN Classifier - Independent test set"
   ]
  },
  {
   "cell_type": "code",
   "execution_count": 14,
   "id": "1701b71c",
   "metadata": {},
   "outputs": [
    {
     "data": {
      "image/png": "[encoded data removed]",
      "text/plain": [
       "<Figure size 432x288 with 2 Axes>"
      ]
     },
     "metadata": {
      "needs_background": "light"
     },
     "output_type": "display_data"
    }
   ],
   "source": [
    "# create a training and test datasets\n",
    "x_train, x_test, y_train, y_test = train_test_split(x_scaled, y1, test_size = .25, random_state = 4)\n",
    "\n",
    "knn = KNeighborsClassifier(n_neighbors = 5) # choose algorithm to use\n",
    "knn.fit(x_train, y_train) # fit the algorithim in the dataset\n",
    "predictions = knn.predict(x_test) # use x to predict y after fitting the data\n",
    "\n",
    "labels = list(y_test.unique()) # labels for confusion matrix\n",
    "cm = confusion_matrix(y_test, predictions) #confusion matrix\n",
    "pd.DataFrame(cm, index = labels, columns = labels)\n",
    "\n",
    "disp = ConfusionMatrixDisplay(confusion_matrix=cm, display_labels=numclaims_unique)\n",
    "disp.plot()\n",
    "plt.show()"
   ]
  },
  {
   "cell_type": "code",
   "execution_count": 15,
   "id": "d31c6536",
   "metadata": {},
   "outputs": [
    {
     "name": "stdout",
     "output_type": "stream",
     "text": [
      "0.8352099615843158\n",
      "0.8693607885965255 f1_score\n"
     ]
    }
   ],
   "source": [
    "# Computing accuracy score i.e. total correct predictions divided by total number of observations\n",
    "print(accuracy_score(y_test, predictions))\n",
    "print(f1_score(predictions, y_test, average = 'weighted'), \"f1_score\")"
   ]
  },
  {
   "cell_type": "markdown",
   "id": "f429c1a3",
   "metadata": {},
   "source": [
    "# Decision tree classifier - Cross Validation"
   ]
  },
  {
   "cell_type": "code",
   "execution_count": 16,
   "id": "2320f243",
   "metadata": {},
   "outputs": [
    {
     "data": {
      "image/png": "[encoded data removed]",
      "text/plain": [
       "<Figure size 432x288 with 2 Axes>"
      ]
     },
     "metadata": {
      "needs_background": "light"
     },
     "output_type": "display_data"
    }
   ],
   "source": [
    "#Define x and y, training and test datasets\n",
    "x = auto_train.drop(['numclaims', 'claimcst0'], axis = 1)\n",
    "y1 = auto_train.numclaims\n",
    "\n",
    "dt_clf = DecisionTreeClassifier()\n",
    "dt_clf = dt_clf.fit(x, y1)\n",
    "y_pred = dt_clf.predict(x)\n",
    "\n",
    "labels = list(y_test.unique())\n",
    "cm = confusion_matrix(y1, y_pred)\n",
    "pd.DataFrame(cm, index = labels, columns = labels)\n",
    "\n",
    "disp = ConfusionMatrixDisplay(confusion_matrix=cm, display_labels=numclaims_unique)\n",
    "disp.plot()\n",
    "plt.show()"
   ]
  },
  {
   "cell_type": "code",
   "execution_count": 17,
   "id": "b13c0b1a",
   "metadata": {},
   "outputs": [
    {
     "name": "stdout",
     "output_type": "stream",
     "text": [
      "0.9999834415154325\n",
      "0.999983441948531 f1_score\n"
     ]
    }
   ],
   "source": [
    "# Computing accuracy score i.e. total correct predictions divided by total number of observations\n",
    "print(accuracy_score(y1, y_pred))\n",
    "print(f1_score(y_pred, y1, average = 'weighted'), \"f1_score\")"
   ]
  },
  {
   "cell_type": "code",
   "execution_count": 18,
   "id": "ed8bb306",
   "metadata": {},
   "outputs": [
    {
     "data": {
      "text/plain": [
       "0.7546363756788979"
      ]
     },
     "execution_count": 18,
     "metadata": {},
     "output_type": "execute_result"
    }
   ],
   "source": [
    "cv = KFold(n_splits=4, random_state=1, shuffle=True)\n",
    "scores = cross_val_score(dt_clf, x, y1, scoring='accuracy', cv=cv)\n",
    "np.mean(scores)"
   ]
  },
  {
   "cell_type": "markdown",
   "id": "24d671f3",
   "metadata": {},
   "source": [
    "# Decision tree classifier - Independent Test Set"
   ]
  },
  {
   "cell_type": "code",
   "execution_count": 19,
   "id": "b8a22e29",
   "metadata": {},
   "outputs": [
    {
     "data": {
      "image/png": "[encoded data removed]",
      "text/plain": [
       "<Figure size 432x288 with 2 Axes>"
      ]
     },
     "metadata": {
      "needs_background": "light"
     },
     "output_type": "display_data"
    }
   ],
   "source": [
    "# create a training and test datasets\n",
    "x_train, x_test, y_train, y_test = train_test_split(x, y1, test_size = .25, random_state = 4)\n",
    "\n",
    "dt_clf = DecisionTreeClassifier()\n",
    "dt_clf = dt_clf.fit(x_train, y_train)\n",
    "y_pred = dt_clf.predict(x_test)\n",
    "\n",
    "labels = list(y_test.unique())\n",
    "cm = confusion_matrix(y_test, y_pred)\n",
    "pd.DataFrame(cm, index = labels, columns = labels)\n",
    "\n",
    "disp = ConfusionMatrixDisplay(confusion_matrix=cm, display_labels=numclaims_unique)\n",
    "disp.plot()\n",
    "plt.show()"
   ]
  },
  {
   "cell_type": "code",
   "execution_count": 20,
   "id": "cee0b3e0",
   "metadata": {},
   "outputs": [
    {
     "name": "stdout",
     "output_type": "stream",
     "text": [
      "0.7549344284011127\n",
      "0.7496746075404699 f1_score\n"
     ]
    }
   ],
   "source": [
    "# Computing accuracy score i.e. total correct predictions divided by total number of observations\n",
    "print(accuracy_score(y_test, y_pred))\n",
    "print(f1_score(y_pred, y_test, average = 'weighted'), \"f1_score\")"
   ]
  },
  {
   "cell_type": "code",
   "execution_count": 21,
   "id": "502ef42a",
   "metadata": {},
   "outputs": [
    {
     "data": {
      "image/png": "[encoded data removed]",
      "text/plain": [
       "<Figure size 432x288 with 1 Axes>"
      ]
     },
     "metadata": {
      "needs_background": "light"
     },
     "output_type": "display_data"
    }
   ],
   "source": [
    "f1_model = ['f1_knn_cv', 'f1_knn_its', 'f1_dt_cv', 'f1_dt_its'] #define x axis\n",
    "f1_values = [89, 86, 99, 74] # define y axis\n",
    "\n",
    "plt.bar(f1_model , f1_values, color ='green',\n",
    "        width = 0.4)\n",
    " \n",
    "plt.xlabel(\"model used\")\n",
    "plt.ylabel(\"f1 percentage accuracy\")\n",
    "plt.title(\"numclaims f1 accuracy on origianal dataset\")\n",
    "plt.show()"
   ]
  },
  {
   "cell_type": "markdown",
   "id": "81cb84a2",
   "metadata": {},
   "source": [
    "## Notes"
   ]
  },
  {
   "cell_type": "raw",
   "id": "3b3500f3",
   "metadata": {},
   "source": [
    "KNN (accuracy, f1_score)\n",
    "CV - 0.86, 0.89 # affected by training error\n",
    "ITS - 0.83, 0.86 ## Used for other datasets below to improve this accuracy ## Imbalanced confusion matrix ie all minorities ignored\n",
    "\n",
    "Decision tree (accuracy, f1_score)\n",
    "CV - 0.99, 0.99 # overfitted data, - has training error\n",
    "ITS - 0.75, 0.74 # low ## Imbalanced confusion matrix ie all minorities ignored\n",
    "\n",
    "KNN-ITS will be used going foward"
   ]
  },
  {
   "cell_type": "markdown",
   "id": "4b931690",
   "metadata": {},
   "source": [
    "## 1b) Predicting claim cost on the original dataset"
   ]
  },
  {
   "cell_type": "code",
   "execution_count": 22,
   "id": "acb484f5",
   "metadata": {},
   "outputs": [],
   "source": [
    "#Define x and y, training and test datasets\n",
    "x = auto_train.drop(['numclaims', 'claimcst0'], axis = 1)\n",
    "y2 = auto_train.claimcst0"
   ]
  },
  {
   "cell_type": "markdown",
   "id": "202cfc7b",
   "metadata": {},
   "source": [
    "## KNN Regressor- Cross Validation"
   ]
  },
  {
   "cell_type": "code",
   "execution_count": 23,
   "id": "49516c08",
   "metadata": {},
   "outputs": [
    {
     "name": "stderr",
     "output_type": "stream",
     "text": [
      "C:\\Users\\Hp\\anaconda3\\lib\\site-packages\\sklearn\\base.py:443: UserWarning: X has feature names, but KNeighborsRegressor was fitted without feature names\n",
      "  warnings.warn(\n"
     ]
    },
    {
     "data": {
      "text/plain": [
       "666.3320361164173"
      ]
     },
     "execution_count": 23,
     "metadata": {},
     "output_type": "execute_result"
    }
   ],
   "source": [
    "# Initiate the scaler\n",
    "scaler = MinMaxScaler()\n",
    "\n",
    "# Fit/transform to training data data\n",
    "x_scaled = scaler.fit_transform(x)\n",
    "\n",
    "knn = KNeighborsRegressor(n_neighbors = 5)\n",
    "knn.fit(x_scaled, y2)\n",
    "predictions = knn.predict(x)\n",
    "\n",
    "#metric\n",
    "mae_knn_cv = mean_absolute_error(predictions, y2)\n",
    "mae_knn_cv"
   ]
  },
  {
   "cell_type": "code",
   "execution_count": 24,
   "id": "c5c6e660",
   "metadata": {},
   "outputs": [
    {
     "data": {
      "text/plain": [
       "-767.0395756163828"
      ]
     },
     "execution_count": 24,
     "metadata": {},
     "output_type": "execute_result"
    }
   ],
   "source": [
    "cv = KFold(n_splits=10, random_state=1, shuffle=True)\n",
    "scores = cross_val_score(knn, x_scaled, y2, scoring='neg_mean_absolute_error', cv=cv)\n",
    "np.mean(scores)"
   ]
  },
  {
   "cell_type": "markdown",
   "id": "80cada40",
   "metadata": {},
   "source": [
    "## KNN Regressor- Independent Test Set"
   ]
  },
  {
   "cell_type": "code",
   "execution_count": 25,
   "id": "16b6bb1c",
   "metadata": {},
   "outputs": [
    {
     "data": {
      "text/plain": [
       "781.8757220764791"
      ]
     },
     "execution_count": 25,
     "metadata": {},
     "output_type": "execute_result"
    }
   ],
   "source": [
    "# create a training and test datasets\n",
    "x_train, x_test, y_train, y_test = train_test_split(x_scaled, y2, test_size = .25, random_state = 4)\n",
    "\n",
    "knn = KNeighborsRegressor(n_neighbors = 5)\n",
    "knn.fit(x_train, y_train)\n",
    "predictions = knn.predict(x_test)\n",
    "\n",
    "#metric\n",
    "mae_knn_its = mean_absolute_error(predictions, y_test)\n",
    "mae_knn_its"
   ]
  },
  {
   "cell_type": "markdown",
   "id": "c63f3a11",
   "metadata": {},
   "source": [
    "## Decision Tree Regressor- Cross Validation"
   ]
  },
  {
   "cell_type": "code",
   "execution_count": 26,
   "id": "5c6b8c3c",
   "metadata": {},
   "outputs": [
    {
     "data": {
      "text/plain": [
       "0.008701213728639554"
      ]
     },
     "execution_count": 26,
     "metadata": {},
     "output_type": "execute_result"
    }
   ],
   "source": [
    "dt_reg = DecisionTreeRegressor()\n",
    "dt_reg = dt_reg.fit(x, y2)\n",
    "y_pred = dt_reg.predict(x)\n",
    "\n",
    "#metric\n",
    "mae_dt_cv = mean_absolute_error(y_pred, y2)\n",
    "mae_dt_cv"
   ]
  },
  {
   "cell_type": "code",
   "execution_count": 27,
   "id": "b1b586ef",
   "metadata": {},
   "outputs": [
    {
     "data": {
      "text/plain": [
       "-966.6504313777554"
      ]
     },
     "execution_count": 27,
     "metadata": {},
     "output_type": "execute_result"
    }
   ],
   "source": [
    "cv = KFold(n_splits=10, random_state=1, shuffle=True)\n",
    "scores = cross_val_score(dt_reg, x, y2, scoring='neg_mean_absolute_error', cv=cv)\n",
    "np.mean(scores)"
   ]
  },
  {
   "cell_type": "markdown",
   "id": "349436b7",
   "metadata": {},
   "source": [
    "## Decision Tree Regressor- Independent Test Set"
   ]
  },
  {
   "cell_type": "code",
   "execution_count": 28,
   "id": "f85eed62",
   "metadata": {},
   "outputs": [
    {
     "data": {
      "text/plain": [
       "984.528041219153"
      ]
     },
     "execution_count": 28,
     "metadata": {},
     "output_type": "execute_result"
    }
   ],
   "source": [
    "# create a training and test datasets\n",
    "x_train, x_test, y_train, y_test = train_test_split(x, y2, test_size = .25, random_state = 4)\n",
    "\n",
    "dt_reg = DecisionTreeRegressor()\n",
    "dt_reg = dt_reg.fit(x_train, y_train)\n",
    "y_pred = dt_reg.predict(x_test)\n",
    "\n",
    "#metric\n",
    "mae_dt_its = mean_absolute_error(y_pred, y_test)\n",
    "mae_dt_its"
   ]
  },
  {
   "cell_type": "code",
   "execution_count": 29,
   "id": "640a1e3b",
   "metadata": {},
   "outputs": [
    {
     "data": {
      "image/png": "[encoded data removed]",
      "text/plain": [
       "<Figure size 432x288 with 1 Axes>"
      ]
     },
     "metadata": {
      "needs_background": "light"
     },
     "output_type": "display_data"
    }
   ],
   "source": [
    "mae_name = ['mae_knn_cv', 'mae_knn_its', 'mae_dt_cv', 'mae_dt_its'] #define x axis\n",
    "mae_values = [666, 781, 0.008, 961] # define y axis\n",
    "\n",
    "plt.bar(mae_name , mae_values, color ='blue',\n",
    "        width = 0.4)\n",
    " \n",
    "plt.xlabel(\"model used\")\n",
    "plt.ylabel(\"mean absolute error\")\n",
    "plt.title(\"mean absolute error vs model used\")\n",
    "plt.show()"
   ]
  },
  {
   "cell_type": "markdown",
   "id": "2fcb9bec",
   "metadata": {},
   "source": [
    "## Notes"
   ]
  },
  {
   "cell_type": "raw",
   "id": "4918fc0f",
   "metadata": {},
   "source": [
    "metric = MAE\n",
    "KNN - CV = 666 # affected by training error\n",
    "KNN - ITS = 781.87\n",
    "DT-CV = 0.008 # affected by training error\n",
    "DT - ITS = 963\n",
    "\n",
    "going forward we use KNN with Independent Test set"
   ]
  },
  {
   "cell_type": "markdown",
   "id": "97cdf9a0",
   "metadata": {},
   "source": [
    "## Add Features"
   ]
  },
  {
   "cell_type": "code",
   "execution_count": 30,
   "id": "17a34c42",
   "metadata": {},
   "outputs": [
    {
     "data": {
      "text/plain": [
       "count    60392.000000\n",
       "mean       662.193190\n",
       "std        133.248261\n",
       "min        301.000000\n",
       "25%        606.000000\n",
       "50%        674.000000\n",
       "75%        767.000000\n",
       "max        850.000000\n",
       "Name: credit_score, dtype: float64"
      ]
     },
     "execution_count": 30,
     "metadata": {},
     "output_type": "execute_result"
    }
   ],
   "source": [
    "auto_train['credit_score'].describe()"
   ]
  },
  {
   "cell_type": "code",
   "execution_count": 31,
   "id": "35882640",
   "metadata": {},
   "outputs": [],
   "source": [
    "auto_train_df = auto_train"
   ]
  },
  {
   "cell_type": "code",
   "execution_count": 32,
   "id": "ca1bd667",
   "metadata": {},
   "outputs": [],
   "source": [
    "# Binned values for training data\n",
    "binned_values = []\n",
    "\n",
    "# Creating the bins using an if-else statement\n",
    "for value in auto_train_df['credit_score']:\n",
    "    if value <= 606:\n",
    "        credit_score_cat = \"1\"\n",
    "    elif value > 606 and value <= 674:\n",
    "        credit_score_cat = \"2\"\n",
    "    elif value > 674 and value <= 767:\n",
    "        credit_score_cat = \"3\"\n",
    "    else:\n",
    "        credit_score_cat = \"4\"\n",
    "    binned_values.append(credit_score_cat)\n",
    "auto_train_df['credit_score_cat'] = binned_values"
   ]
  },
  {
   "cell_type": "markdown",
   "id": "63333fb5",
   "metadata": {},
   "source": [
    "## 2a) Predicting number of claims on the added features dataset"
   ]
  },
  {
   "cell_type": "code",
   "execution_count": 33,
   "id": "b9eca181",
   "metadata": {},
   "outputs": [
    {
     "data": {
      "image/png": "[encoded data removed]",
      "text/plain": [
       "<Figure size 432x288 with 2 Axes>"
      ]
     },
     "metadata": {
      "needs_background": "light"
     },
     "output_type": "display_data"
    }
   ],
   "source": [
    "#Define x and y, training and test datasets\n",
    "x = auto_train_df.drop(['numclaims', 'claimcst0'], axis = 1)\n",
    "y1 = auto_train_df.numclaims\n",
    "\n",
    "# Initiate the scaler\n",
    "scaler = MinMaxScaler()\n",
    "\n",
    "# Fit/transform to training data data\n",
    "x_scaled = scaler.fit_transform(x)\n",
    "\n",
    "# create a training and test datasets\n",
    "x_train, x_test, y_train, y_test = train_test_split(x_scaled, y1, test_size = .25, random_state = 4)\n",
    "\n",
    "knn = KNeighborsClassifier(n_neighbors = 5) # choose algorithm to use\n",
    "knn.fit(x_train, y_train) # fit the algorithim in the dataset\n",
    "predictions = knn.predict(x_test) # use x to predict y after fitting the data\n",
    "\n",
    "labels = list(y_test.unique()) # labels for confusion matrix\n",
    "cm = confusion_matrix(y_test, predictions) #confusion matrix\n",
    "pd.DataFrame(cm, index = labels, columns = labels)\n",
    "\n",
    "disp = ConfusionMatrixDisplay(confusion_matrix=cm, display_labels=numclaims_unique)\n",
    "disp.plot()\n",
    "plt.show()"
   ]
  },
  {
   "cell_type": "code",
   "execution_count": 34,
   "id": "058f6523",
   "metadata": {},
   "outputs": [
    {
     "data": {
      "text/plain": [
       "(0.8689465198309262, 'f1_score')"
      ]
     },
     "execution_count": 34,
     "metadata": {},
     "output_type": "execute_result"
    }
   ],
   "source": [
    "# Computing accuracy score i.e. total correct predictions divided by total number of observations\n",
    "f1_score(predictions, y_test, average = 'weighted'), \"f1_score\""
   ]
  },
  {
   "cell_type": "raw",
   "id": "d100c9ce",
   "metadata": {},
   "source": [
    "No changes from the original dataset\n",
    "Confusion matrix is still imbalanced ie all minorities ignored"
   ]
  },
  {
   "cell_type": "markdown",
   "id": "d86a8e2f",
   "metadata": {},
   "source": [
    "## 2b) Predicting claim cost on the added features dataset"
   ]
  },
  {
   "cell_type": "code",
   "execution_count": 35,
   "id": "d4b37ef1",
   "metadata": {},
   "outputs": [
    {
     "data": {
      "text/plain": [
       "787.1963173078761"
      ]
     },
     "execution_count": 35,
     "metadata": {},
     "output_type": "execute_result"
    }
   ],
   "source": [
    "#Define x and y, training and test datasets\n",
    "x = auto_train_df.drop(['numclaims', 'claimcst0'], axis = 1)\n",
    "y2 = auto_train_df.claimcst0\n",
    "\n",
    "# Initiate the scaler\n",
    "scaler = MinMaxScaler()\n",
    "\n",
    "# Fit/transform to training data data\n",
    "x_scaled = scaler.fit_transform(x)\n",
    "\n",
    "# create a training and test datasets\n",
    "x_train, x_test, y_train, y_test = train_test_split(x_scaled, y2, test_size = .25, random_state = 4)\n",
    "\n",
    "knn = KNeighborsRegressor(n_neighbors = 5)\n",
    "knn.fit(x_train, y_train)\n",
    "predictions = knn.predict(x_test)\n",
    "\n",
    "#metric\n",
    "mean_absolute_error(predictions, y_test)"
   ]
  },
  {
   "cell_type": "raw",
   "id": "188ce468",
   "metadata": {},
   "source": [
    "Adding Features Worsens the mean absolute error"
   ]
  },
  {
   "cell_type": "markdown",
   "id": "39aabc5c",
   "metadata": {},
   "source": [
    "## Feature Selection - filter method -Using a statistical (chi-squared) test"
   ]
  },
  {
   "cell_type": "code",
   "execution_count": 36,
   "id": "27bf1344",
   "metadata": {},
   "outputs": [],
   "source": [
    "auto_train = auto_train.drop(['credit_score_cat'], axis = 1)"
   ]
  },
  {
   "cell_type": "markdown",
   "id": "2aeff489",
   "metadata": {},
   "source": [
    "## 3a) Predicting number of claims on feature selection"
   ]
  },
  {
   "cell_type": "code",
   "execution_count": 37,
   "id": "1110adc3",
   "metadata": {},
   "outputs": [
    {
     "data": {
      "text/plain": [
       "(0.8646132082945273, 'f1_score')"
      ]
     },
     "execution_count": 37,
     "metadata": {},
     "output_type": "execute_result"
    }
   ],
   "source": [
    "#Define x and y, training and test datasets\n",
    "x = auto_train.drop(['numclaims', 'claimcst0'], axis = 1)\n",
    "y1 = auto_train.numclaims\n",
    "\n",
    "# Initiate the scaler\n",
    "scaler = MinMaxScaler()\n",
    "\n",
    "# Fit/transform to training data data\n",
    "x_scaled = scaler.fit_transform(x)\n",
    "\n",
    "# create a training and test datasets\n",
    "x_train, x_test, y_train, y_test = train_test_split(x_scaled, y1, test_size = .25, random_state = 4)\n",
    "# Using a statistical (chi-squared) test\n",
    "# Defining to select the best k features using chi-squared\n",
    "selector = SelectKBest(chi2, k = 5)\n",
    "\n",
    "# Creating new dataset with selected features\n",
    "x_new = selector.fit_transform(x_train, y_train)\n",
    "\n",
    "# Apply transformation to the test set\n",
    "x_test_new = selector.transform(x_test)\n",
    "\n",
    "knn = KNeighborsClassifier(n_neighbors = 5) # choose algorithm to use\n",
    "knn.fit(x_new, y_train) # fit the algorithim in the dataset\n",
    "predictions = knn.predict(x_test_new) # use x to predict y after fitting the data\n",
    "\n",
    "# Computing accuracy score i.e. total correct predictions divided by total number of observations\n",
    "f1_score(predictions, y_test, average = 'weighted'), \"f1_score\""
   ]
  },
  {
   "cell_type": "code",
   "execution_count": 38,
   "id": "4842d78b",
   "metadata": {},
   "outputs": [
    {
     "data": {
      "image/png": "[encoded data removed]",
      "text/plain": [
       "<Figure size 432x288 with 2 Axes>"
      ]
     },
     "metadata": {
      "needs_background": "light"
     },
     "output_type": "display_data"
    }
   ],
   "source": [
    "labels = list(y_test.unique()) # labels for confusion matrix\n",
    "cm = confusion_matrix(y_test, predictions) #confusion matrix\n",
    "pd.DataFrame(cm, index = labels, columns = labels)\n",
    "\n",
    "disp = ConfusionMatrixDisplay(confusion_matrix=cm, display_labels=numclaims_unique)\n",
    "disp.plot()\n",
    "plt.show()"
   ]
  },
  {
   "cell_type": "raw",
   "id": "e6c3dcef",
   "metadata": {},
   "source": [
    "# Feature selection does not improve accuracy and still has imbalanced confusion matrix ie all minorities ignored"
   ]
  },
  {
   "cell_type": "markdown",
   "id": "db2e4159",
   "metadata": {},
   "source": [
    "## PCA Regression"
   ]
  },
  {
   "cell_type": "code",
   "execution_count": 39,
   "id": "2005f911",
   "metadata": {},
   "outputs": [
    {
     "data": {
      "text/plain": [
       "1020.7035719700235"
      ]
     },
     "execution_count": 39,
     "metadata": {},
     "output_type": "execute_result"
    }
   ],
   "source": [
    "#Define x and y, training and test datasets\n",
    "x = auto_train.drop(['numclaims', 'claimcst0'], axis = 1)\n",
    "y2 = auto_train.claimcst0\n",
    "\n",
    "# create a training and test datasets\n",
    "x_train, x_test, y_train, y_test = train_test_split(x, y2, test_size = .25, random_state = 4)\n",
    "\n",
    "# Scale the data since PCA is distance based\n",
    "x_trained_scaled = StandardScaler().fit_transform(x_train)\n",
    "\n",
    "# Define PCA with 3 principal components\n",
    "pca = PCA(n_components=3)\n",
    "# get new X_train dataset that is transformed via its principal components\n",
    "x_train_principalComponents = pca.fit_transform(x_trained_scaled)\n",
    "# convert PCA datasets into a dataframe instead of an array with little structure\n",
    "df_x_train_PC = pd.DataFrame(data = x_train_principalComponents,\n",
    "                             columns = ['pc1', 'pc2', 'pc3'])\n",
    "\n",
    "# Do the same thing to the test dataset.\n",
    "x_test_scaled = StandardScaler().fit_transform(x_test)\n",
    "x_test_principalComponents = pca.fit_transform(x_test_scaled)\n",
    "df_x_test_PC = pd.DataFrame(data = x_test_principalComponents,\n",
    "                             columns = ['pc1', 'pc2', 'pc3'])\n",
    "\n",
    "knn = KNeighborsRegressor(n_neighbors = 5) # choose algorithm to use\n",
    "knn.fit(df_x_train_PC , y_train) # fit the algorithim in the dataset\n",
    "predictions = knn.predict(df_x_test_PC) # use x to predict y after fitting the data\n",
    "\n",
    "#metric\n",
    "mean_absolute_error(predictions, y_test)"
   ]
  },
  {
   "cell_type": "raw",
   "id": "93c8b58c",
   "metadata": {},
   "source": [
    "## Using PCA did not help improve accuracy"
   ]
  },
  {
   "cell_type": "markdown",
   "id": "67c2f048",
   "metadata": {},
   "source": [
    "## 4) Predicting numclaims on balanced dataset"
   ]
  },
  {
   "cell_type": "markdown",
   "id": "baca9cff",
   "metadata": {},
   "source": [
    "## Undersampling"
   ]
  },
  {
   "cell_type": "code",
   "execution_count": 40,
   "id": "c6320bf2",
   "metadata": {},
   "outputs": [
    {
     "data": {
      "text/plain": [
       "0    50362\n",
       "1     8034\n",
       "2     1336\n",
       "3      459\n",
       "4      149\n",
       "5       52\n",
       "Name: numclaims, dtype: int64"
      ]
     },
     "execution_count": 40,
     "metadata": {},
     "output_type": "execute_result"
    }
   ],
   "source": [
    "auto_train['numclaims'].value_counts()"
   ]
  },
  {
   "cell_type": "code",
   "execution_count": 41,
   "id": "1103c9d4",
   "metadata": {},
   "outputs": [
    {
     "data": {
      "text/plain": [
       "0    378\n",
       "2    294\n",
       "1    241\n",
       "3    168\n",
       "4    106\n",
       "5     40\n",
       "Name: numclaims, dtype: int64"
      ]
     },
     "execution_count": 41,
     "metadata": {},
     "output_type": "execute_result"
    }
   ],
   "source": [
    "#Define x and y, training and test datasets\n",
    "x = auto_train\n",
    "x_train, x_test = train_test_split(x, test_size = .25, random_state = 4)\n",
    "\n",
    "# Undersample numclaims_0 randomly by selecting 1% of the rows randomly\n",
    "numclaims_0 = x_train[x_train['numclaims'] == 0]\n",
    "numclaims_0_under = numclaims_0.sample(round(0.01*len(numclaims_0)), replace = True)\n",
    "numclaims_0_under.shape\n",
    "\n",
    "# Undersample numclaims_1 randomly by selecting 4% of the rows randomly\n",
    "numclaims_1 = x_train[x_train['numclaims'] == 1]\n",
    "numclaims_1_under = numclaims_1.sample(round(0.04*len(numclaims_1)), replace = True)\n",
    "numclaims_1_under.shape\n",
    "\n",
    "# Undersample numclaims_2 randomly by selecting 50% of the rows randomly\n",
    "numclaims_2 = x_train[x_train['numclaims'] == 2]\n",
    "numclaims_2_under = numclaims_2.sample(round(0.30*len(numclaims_2)), replace = True)\n",
    "numclaims_2_under.shape\n",
    "\n",
    "# Undersample numclaims_3 randomly by selecting 50% of the rows randomly\n",
    "numclaims_3 = x_train[x_train['numclaims'] == 3]\n",
    "numclaims_3_under = numclaims_3.sample(round(0.50*len(numclaims_3)), replace = True)\n",
    "numclaims_3_under.shape\n",
    "\n",
    "# Remove the rows that correspond to quality 5, 6 and 7 in the training dataset\n",
    "x_train = x_train[x_train.numclaims != 0]\n",
    "x_train = x_train[x_train.numclaims != 1]\n",
    "x_train = x_train[x_train.numclaims != 2]\n",
    "x_train = x_train[x_train.numclaims != 3]\n",
    "\n",
    "# Add the undersample class 1 and class 2 to the X_train to create a new dataset called X_train_balanced.\n",
    "x_train_balanced = x_train.append([numclaims_0_under, numclaims_1_under, numclaims_2_under, numclaims_3_under])\n",
    "x_train_balanced['numclaims'].value_counts()"
   ]
  },
  {
   "cell_type": "code",
   "execution_count": 42,
   "id": "4f110ea9",
   "metadata": {},
   "outputs": [
    {
     "data": {
      "image/png": "[encoded data removed]",
      "text/plain": [
       "<Figure size 432x288 with 1 Axes>"
      ]
     },
     "metadata": {
      "needs_background": "light"
     },
     "output_type": "display_data"
    }
   ],
   "source": [
    "numclaims_unique = x_train_balanced ['numclaims'].unique() #define x axis\n",
    "numclaims_values =x_train_balanced ['numclaims'].value_counts() # define y axis\n",
    "\n",
    "plt.bar(numclaims_train , numclaims_values, color ='maroon',\n",
    "        width = 0.4)\n",
    " \n",
    "plt.xlabel(\"numclaims.unique\")\n",
    "plt.ylabel(\"numclaims.value_count\")\n",
    "plt.title(\"numclaims visualization after undersampling\")\n",
    "plt.show()"
   ]
  },
  {
   "cell_type": "code",
   "execution_count": 43,
   "id": "1ed48bc2",
   "metadata": {},
   "outputs": [
    {
     "data": {
      "image/png": "[encoded data removed]",
      "text/plain": [
       "<Figure size 432x288 with 2 Axes>"
      ]
     },
     "metadata": {
      "needs_background": "light"
     },
     "output_type": "display_data"
    }
   ],
   "source": [
    "x_train_balanced\n",
    "x_train = x_train_balanced.drop(['numclaims', 'claimcst0'], axis = 1)\n",
    "y_train = x_train_balanced.numclaims\n",
    "\n",
    "x_test1 = x_test.drop(['numclaims', 'claimcst0'], axis = 1)\n",
    "y_test1 = x_test.numclaims\n",
    "\n",
    "# Initiate the scaler\n",
    "scaler = MinMaxScaler()\n",
    "\n",
    "# Fit/transform to training data data\n",
    "x_train_scaled = scaler.fit_transform(x_train)\n",
    "\n",
    "x_test_scaled = scaler.fit_transform(x_test1)\n",
    "\n",
    "knn = KNeighborsClassifier(n_neighbors = 5) #initialize a model with 5 neighbors\n",
    "knn.fit(x_train_scaled, y_train) # fit the model in the train dataset\n",
    "predictions = knn.predict(x_test_scaled) \n",
    "\n",
    "labels = list(y_test1.unique()) # labels for confusion matrix\n",
    "cm = confusion_matrix(y_test1, predictions) #confusion matrix\n",
    "pd.DataFrame(cm, index = labels, columns = labels)\n",
    "\n",
    "disp = ConfusionMatrixDisplay(confusion_matrix=cm, display_labels=numclaims_unique)\n",
    "disp.plot()\n",
    "plt.show()"
   ]
  },
  {
   "cell_type": "code",
   "execution_count": 44,
   "id": "65c205a1",
   "metadata": {},
   "outputs": [
    {
     "data": {
      "text/plain": [
       "(0.4852259720234541, 'f1_score')"
      ]
     },
     "execution_count": 44,
     "metadata": {},
     "output_type": "execute_result"
    }
   ],
   "source": [
    "# Computing accuracy score i.e. total correct predictions divided by total number of observations\n",
    "f1_score(predictions, y_test1, average = 'weighted'), \"f1_score\""
   ]
  },
  {
   "cell_type": "raw",
   "id": "4d3cb467",
   "metadata": {},
   "source": [
    "Undersampling does not help improve accuracy"
   ]
  },
  {
   "cell_type": "markdown",
   "id": "c4d66dcb",
   "metadata": {},
   "source": [
    "## Oversampling"
   ]
  },
  {
   "cell_type": "code",
   "execution_count": 45,
   "id": "e5fdc835",
   "metadata": {},
   "outputs": [
    {
     "data": {
      "text/plain": [
       "0    37812\n",
       "1    24072\n",
       "3    20220\n",
       "2    19620\n",
       "4     6360\n",
       "5     4000\n",
       "Name: numclaims, dtype: int64"
      ]
     },
     "execution_count": 45,
     "metadata": {},
     "output_type": "execute_result"
    }
   ],
   "source": [
    "#Define x and y, training and test datasets\n",
    "x = auto_train\n",
    "x_train, x_test = train_test_split(x, test_size = .25, random_state = 4)\n",
    "\n",
    "# Oversample numclaims_1 randomly by selecting 1% of the rows randomly\n",
    "numclaims_1 = x_train[x_train['numclaims'] == 1]\n",
    "numclaims_1_over = numclaims_1.sample(round(4*len(numclaims_1)), replace = True)\n",
    "numclaims_1_over.shape\n",
    "\n",
    "# Oversample numclaims_2 randomly by selecting 4% of the rows randomly\n",
    "numclaims_2 = x_train[x_train['numclaims'] == 2]\n",
    "numclaims_2_over = numclaims_2.sample(round(20*len(numclaims_2)), replace = True)\n",
    "numclaims_2_over.shape\n",
    "\n",
    "# Oversample numclaims_3 randomly by selecting 50% of the rows randomly\n",
    "numclaims_3 = x_train[x_train['numclaims'] == 3]\n",
    "numclaims_3_over = numclaims_3.sample(round(60*len(numclaims_3)), replace = True)\n",
    "numclaims_3_over.shape\n",
    "\n",
    "# Oversample numclaims_4 randomly by selecting 50% of the rows randomly\n",
    "numclaims_4 = x_train[x_train['numclaims'] == 4]\n",
    "numclaims_4_over = numclaims_4.sample(round(60*len(numclaims_4)), replace = True)\n",
    "numclaims_4_over.shape\n",
    "\n",
    "# Oversample numclaims_5 randomly by adding 100x of the rows randomly\n",
    "numclaims_5 = x_train[x_train['numclaims'] == 5]\n",
    "numclaims_5_over = numclaims_5.sample(round(100*len(numclaims_5)), replace = True)\n",
    "numclaims_5_over.shape\n",
    "\n",
    "# Remove the rows that correspond to numclaims1, 2, 3, 4, 5 in the training dataset\n",
    "x_train = x_train[x_train.numclaims != 1]\n",
    "x_train = x_train[x_train.numclaims != 2]\n",
    "x_train = x_train[x_train.numclaims != 3]\n",
    "x_train = x_train[x_train.numclaims != 4]\n",
    "x_train = x_train[x_train.numclaims != 5]\n",
    "\n",
    "# Add the oversample class 1 and class 2 to the X_train to create a new dataset called X_train_balanced.\n",
    "x_train_balanced = x_train.append([numclaims_1_over, numclaims_2_over, numclaims_3_over, numclaims_4_over, numclaims_5_over])\n",
    "x_train_balanced['numclaims'].value_counts()"
   ]
  },
  {
   "cell_type": "code",
   "execution_count": 46,
   "id": "340a43f0",
   "metadata": {},
   "outputs": [
    {
     "data": {
      "image/png": "[encoded data removed]",
      "text/plain": [
       "<Figure size 432x288 with 1 Axes>"
      ]
     },
     "metadata": {
      "needs_background": "light"
     },
     "output_type": "display_data"
    }
   ],
   "source": [
    "numclaims_unique = x_train_balanced ['numclaims'].unique() #define x axis\n",
    "numclaims_values =x_train_balanced ['numclaims'].value_counts() # define y axis\n",
    "\n",
    "plt.bar(numclaims_unique , numclaims_values, color ='maroon',\n",
    "        width = 0.4)\n",
    " \n",
    "plt.xlabel(\"numclaims.unique\")\n",
    "plt.ylabel(\"numclaims.value_count\")\n",
    "plt.title(\"numclaims visualization after oversampling\")\n",
    "plt.show()"
   ]
  },
  {
   "cell_type": "code",
   "execution_count": 47,
   "id": "a5f899eb",
   "metadata": {},
   "outputs": [
    {
     "data": {
      "image/png": "[encoded data removed]",
      "text/plain": [
       "<Figure size 432x288 with 2 Axes>"
      ]
     },
     "metadata": {
      "needs_background": "light"
     },
     "output_type": "display_data"
    }
   ],
   "source": [
    "x_train_balanced\n",
    "x_train = x_train_balanced.drop(['numclaims', 'claimcst0'], axis = 1)\n",
    "y_train = x_train_balanced.numclaims\n",
    "\n",
    "x_test1 = x_test.drop(['numclaims', 'claimcst0'], axis = 1)\n",
    "y_test1= x_test.numclaims\n",
    "\n",
    "# Initiate the scaler\n",
    "scaler = MinMaxScaler()\n",
    "\n",
    "# Fit/transform to training data data\n",
    "x_train_scaled = scaler.fit_transform(x_train)\n",
    "\n",
    "x_test_scaled = scaler.fit_transform(x_test1)\n",
    "\n",
    "knn = KNeighborsClassifier(n_neighbors = 5) #initialize a model with 5 neighbors\n",
    "knn.fit(x_train_scaled, y_train) # fit the model in the train dataset\n",
    "predictions = knn.predict(x_test_scaled) \n",
    "\n",
    "labels = list(y_test1.unique()) # labels for confusion matrix\n",
    "cm = confusion_matrix(y_test1, predictions) #confusion matrix\n",
    "pd.DataFrame(cm, index = labels, columns = labels)\n",
    "\n",
    "disp = ConfusionMatrixDisplay(confusion_matrix=cm, display_labels=numclaims_unique)\n",
    "disp.plot()\n",
    "plt.show()"
   ]
  },
  {
   "cell_type": "code",
   "execution_count": 48,
   "id": "7cfdfa8c",
   "metadata": {},
   "outputs": [
    {
     "data": {
      "text/plain": [
       "(0.6424902406231922, 'f1_score')"
      ]
     },
     "execution_count": 48,
     "metadata": {},
     "output_type": "execute_result"
    }
   ],
   "source": [
    "# Computing accuracy score i.e. total correct predictions divided by total number of observations\n",
    "f1_score(predictions, y_test1, average = 'weighted'), \"f1_score\""
   ]
  },
  {
   "cell_type": "raw",
   "id": "307f4386",
   "metadata": {},
   "source": [
    "#Oversampling does not help improve accuracy"
   ]
  },
  {
   "cell_type": "markdown",
   "id": "7259d9f5",
   "metadata": {},
   "source": [
    "## SMOTE"
   ]
  },
  {
   "cell_type": "code",
   "execution_count": 49,
   "id": "be38e4ec",
   "metadata": {},
   "outputs": [
    {
     "data": {
      "image/png": "[encoded data removed]",
      "text/plain": [
       "<Figure size 432x288 with 2 Axes>"
      ]
     },
     "metadata": {
      "needs_background": "light"
     },
     "output_type": "display_data"
    }
   ],
   "source": [
    "#Define x and y, training and test datasets\n",
    "x = auto_train.drop(['numclaims', 'claimcst0'], axis = 1)\n",
    "y1 = auto_train.numclaims\n",
    "\n",
    "# create a training and test datasets\n",
    "x_train, x_test, y_train, y_test = train_test_split(x, y1, test_size = .25, random_state = 4)\n",
    "\n",
    "# Initiate the scaler\n",
    "scaler = MinMaxScaler()\n",
    "\n",
    "# Fit/transform to training data data\n",
    "x_train_scaled = scaler.fit_transform(x_train)\n",
    "x_test_scaled = scaler.transform(x_test)\n",
    "\n",
    "# Define SMOTE function with a fixed random state of 42\n",
    "sm = SMOTE(random_state=42, k_neighbors = 5)\n",
    "\n",
    "# New X and Y dataset\n",
    "x_train_scaled_SMOTE, y_train_SMOTE = sm.fit_resample(x_train_scaled, y_train)\n",
    "\n",
    "\n",
    "knn = KNeighborsClassifier(n_neighbors=5)\n",
    "knn = knn.fit(x_train_scaled_SMOTE, y_train_SMOTE)\n",
    "y_pred_knn_SMOTE = knn.predict(x_test_scaled)\n",
    "\n",
    "labels = list(y_test.unique()) # labels for confusion matrix\n",
    "cm = confusion_matrix(y_test, y_pred_knn_SMOTE) #confusion matrix\n",
    "pd.DataFrame(cm, index = labels, columns = labels)\n",
    "\n",
    "disp = ConfusionMatrixDisplay(confusion_matrix=cm, display_labels=numclaims_unique)\n",
    "disp.plot()\n",
    "plt.show()"
   ]
  },
  {
   "cell_type": "code",
   "execution_count": 50,
   "id": "c685c794",
   "metadata": {},
   "outputs": [
    {
     "data": {
      "text/plain": [
       "(0.5898743788145747, 'f1_score')"
      ]
     },
     "execution_count": 50,
     "metadata": {},
     "output_type": "execute_result"
    }
   ],
   "source": [
    "# Computing accuracy score i.e. total correct predictions divided by total number of observations\n",
    "f1_score(y_pred_knn_SMOTE, y_test, average = 'weighted'), \"f1_score\""
   ]
  },
  {
   "cell_type": "raw",
   "id": "070edd35",
   "metadata": {},
   "source": [
    "SMOTE does not help improve accuarcy"
   ]
  },
  {
   "cell_type": "markdown",
   "id": "22499cd8",
   "metadata": {},
   "source": [
    "## Hyperparameter Tuning"
   ]
  },
  {
   "cell_type": "code",
   "execution_count": 60,
   "id": "f38babd5",
   "metadata": {},
   "outputs": [],
   "source": [
    "auto_train_sample = auto_train.sample(frac=0.01) #sample data to reduce running time\n",
    "x = auto_train_sample.drop(['numclaims', 'claimcst0'], axis = 1)\n",
    "y = auto_train_sample.claimcst0\n",
    "\n",
    "# create a training and test datasets\n",
    "x_train, x_test, y_train, y_test = train_test_split(x, y, test_size = .25, random_state = 4)\n",
    "\n",
    "# Define parameters to search through\n",
    "weights = [\"uniform\", \"distance\"]\n",
    "algorithm = [\"auto\",\"ball_tree\",\"kd_tree\", \"brute\"]\n",
    "n_neighbors = range(1,10)\n",
    "p = range(1,5)\n",
    "\n",
    "# storing our numeric results\n",
    "results = []\n",
    "\n",
    "# forloop to get every possible combination of criterion, splitter, and min_sample_leafs\n",
    "for weight, alg, n_neigh, p in itertools.product(weights, algorithm, n_neighbors, p):\n",
    "\n",
    "    # Initialize a decision tree regression model with specific parameters\n",
    "    knn_reg = KNeighborsRegressor(weights = weight,\n",
    "                               algorithm = alg,\n",
    "                               n_neighbors = n_neigh,\n",
    "                                 p = p)\n",
    "    # Train the decision tree regressor\n",
    "    knn_reg = knn_reg.fit(x_train,y_train)\n",
    "    # Get prediction from decision tree regressor\n",
    "    y_pred = knn_reg.predict(x_test)\n",
    "    # Calculate the mean absolute error metric\n",
    "    mae = mean_absolute_error(y_test, y_pred)\n",
    "    # Append to results to store mae\n",
    "    results.append(mae)\n",
    "    "
   ]
  },
  {
   "cell_type": "code",
   "execution_count": 61,
   "id": "f9199405",
   "metadata": {},
   "outputs": [
    {
     "data": {
      "text/html": [
       "<div>\n",
       "<style scoped>\n",
       "    .dataframe tbody tr th:only-of-type {\n",
       "        vertical-align: middle;\n",
       "    }\n",
       "\n",
       "    .dataframe tbody tr th {\n",
       "        vertical-align: top;\n",
       "    }\n",
       "\n",
       "    .dataframe thead th {\n",
       "        text-align: right;\n",
       "    }\n",
       "</style>\n",
       "<table border=\"1\" class=\"dataframe\">\n",
       "  <thead>\n",
       "    <tr style=\"text-align: right;\">\n",
       "      <th></th>\n",
       "      <th>weights</th>\n",
       "      <th>algorithm</th>\n",
       "      <th>k</th>\n",
       "      <th>p</th>\n",
       "      <th>mae</th>\n",
       "    </tr>\n",
       "  </thead>\n",
       "  <tbody>\n",
       "    <tr>\n",
       "      <th>29</th>\n",
       "      <td>uniform</td>\n",
       "      <td>auto</td>\n",
       "      <td>8</td>\n",
       "      <td>2</td>\n",
       "      <td>488</td>\n",
       "    </tr>\n",
       "    <tr>\n",
       "      <th>137</th>\n",
       "      <td>uniform</td>\n",
       "      <td>brute</td>\n",
       "      <td>8</td>\n",
       "      <td>2</td>\n",
       "      <td>488</td>\n",
       "    </tr>\n",
       "    <tr>\n",
       "      <th>101</th>\n",
       "      <td>uniform</td>\n",
       "      <td>kd_tree</td>\n",
       "      <td>8</td>\n",
       "      <td>2</td>\n",
       "      <td>488</td>\n",
       "    </tr>\n",
       "    <tr>\n",
       "      <th>65</th>\n",
       "      <td>uniform</td>\n",
       "      <td>ball_tree</td>\n",
       "      <td>8</td>\n",
       "      <td>2</td>\n",
       "      <td>488</td>\n",
       "    </tr>\n",
       "    <tr>\n",
       "      <th>100</th>\n",
       "      <td>uniform</td>\n",
       "      <td>kd_tree</td>\n",
       "      <td>8</td>\n",
       "      <td>1</td>\n",
       "      <td>491</td>\n",
       "    </tr>\n",
       "    <tr>\n",
       "      <th>...</th>\n",
       "      <td>...</td>\n",
       "      <td>...</td>\n",
       "      <td>...</td>\n",
       "      <td>...</td>\n",
       "      <td>...</td>\n",
       "    </tr>\n",
       "    <tr>\n",
       "      <th>109</th>\n",
       "      <td>uniform</td>\n",
       "      <td>brute</td>\n",
       "      <td>1</td>\n",
       "      <td>2</td>\n",
       "      <td>904</td>\n",
       "    </tr>\n",
       "    <tr>\n",
       "      <th>217</th>\n",
       "      <td>distance</td>\n",
       "      <td>kd_tree</td>\n",
       "      <td>1</td>\n",
       "      <td>2</td>\n",
       "      <td>904</td>\n",
       "    </tr>\n",
       "    <tr>\n",
       "      <th>73</th>\n",
       "      <td>uniform</td>\n",
       "      <td>kd_tree</td>\n",
       "      <td>1</td>\n",
       "      <td>2</td>\n",
       "      <td>904</td>\n",
       "    </tr>\n",
       "    <tr>\n",
       "      <th>37</th>\n",
       "      <td>uniform</td>\n",
       "      <td>ball_tree</td>\n",
       "      <td>1</td>\n",
       "      <td>2</td>\n",
       "      <td>904</td>\n",
       "    </tr>\n",
       "    <tr>\n",
       "      <th>145</th>\n",
       "      <td>distance</td>\n",
       "      <td>auto</td>\n",
       "      <td>1</td>\n",
       "      <td>2</td>\n",
       "      <td>904</td>\n",
       "    </tr>\n",
       "  </tbody>\n",
       "</table>\n",
       "<p>288 rows × 5 columns</p>\n",
       "</div>"
      ],
      "text/plain": [
       "      weights  algorithm  k  p  mae\n",
       "29    uniform       auto  8  2  488\n",
       "137   uniform      brute  8  2  488\n",
       "101   uniform    kd_tree  8  2  488\n",
       "65    uniform  ball_tree  8  2  488\n",
       "100   uniform    kd_tree  8  1  491\n",
       "..        ...        ... .. ..  ...\n",
       "109   uniform      brute  1  2  904\n",
       "217  distance    kd_tree  1  2  904\n",
       "73    uniform    kd_tree  1  2  904\n",
       "37    uniform  ball_tree  1  2  904\n",
       "145  distance       auto  1  2  904\n",
       "\n",
       "[288 rows x 5 columns]"
      ]
     },
     "execution_count": 61,
     "metadata": {},
     "output_type": "execute_result"
    }
   ],
   "source": [
    "# Create dataframe to view results easily\n",
    "df_results_knn_reg = pd.DataFrame(itertools.product(weights, algorithm, n_neighbors,range(1,5)),\n",
    "                              columns = ['weights', 'algorithm', 'k', \"p\"])\n",
    "\n",
    "# Create a mse column\n",
    "df_results_knn_reg['mae'] = results\n",
    "# Uncomment line below to remove scientific notation in data frame\n",
    "df_results_knn_reg['mae'] = df_results_knn_reg['mae'].astype('int64')\n",
    "df_results_knn_reg\n",
    "# Sort values\n",
    "df_results_knn_reg.sort_values('mae')"
   ]
  },
  {
   "cell_type": "raw",
   "id": "85f2dcdd",
   "metadata": {},
   "source": [
    "At weight = uniform, algorithm = ball-tree, k = 2 and p = 1, hypeparameter tuning does help improve mae to 541. \n",
    "# this will be used for prediction"
   ]
  },
  {
   "cell_type": "markdown",
   "id": "cec52345",
   "metadata": {},
   "source": [
    "## MODEL COMPARISON"
   ]
  },
  {
   "cell_type": "code",
   "execution_count": 53,
   "id": "51b1bcbb",
   "metadata": {},
   "outputs": [
    {
     "data": {
      "image/png": "[encoded data removed]",
      "text/plain": [
       "<Figure size 432x288 with 1 Axes>"
      ]
     },
     "metadata": {
      "needs_background": "light"
     },
     "output_type": "display_data"
    }
   ],
   "source": [
    "f1_model = ['original', 'features added', 'feature selection', 'undersampling', 'oversampling', 'SMOTE'] #define x axis\n",
    "f1_values = [86, 86, 86, 54, 64, 60] # define y axis\n",
    "\n",
    "plt.bar(f1_model , f1_values, color ='green', \n",
    "        width = 0.4)\n",
    "plt.xlabel(\"changes made\")\n",
    "plt.ylabel(\"f1 percentage accuracy\")\n",
    "plt.title(\"fa accuracy comparison\")\n",
    "plt.show()"
   ]
  },
  {
   "cell_type": "code",
   "execution_count": 62,
   "id": "a4918405",
   "metadata": {},
   "outputs": [
    {
     "data": {
      "image/png": "[encoded data removed]",
      "text/plain": [
       "<Figure size 432x288 with 1 Axes>"
      ]
     },
     "metadata": {
      "needs_background": "light"
     },
     "output_type": "display_data"
    }
   ],
   "source": [
    "f1_model = ['original', 'features added', 'PCA', 'Hyperparameter tuning'] #define x axis\n",
    "f1_values = [781, 787, 952, 488] # define y axis\n",
    "\n",
    "plt.bar(f1_model , f1_values, color ='green', \n",
    "        width = 0.4)\n",
    "plt.xlabel(\"changes made\")\n",
    "plt.ylabel(\"mae\")\n",
    "plt.title(\"mae accuracy comparison\")\n",
    "plt.show()"
   ]
  },
  {
   "cell_type": "markdown",
   "id": "0db922b0",
   "metadata": {},
   "source": [
    "## Use the best algorithm combination and metric to predict auto_test"
   ]
  },
  {
   "cell_type": "markdown",
   "id": "4acbc12b",
   "metadata": {},
   "source": [
    "# Predict numclaim using the KNN - Independent Test Set on the original dataset"
   ]
  },
  {
   "cell_type": "code",
   "execution_count": 106,
   "id": "ee08a715",
   "metadata": {},
   "outputs": [],
   "source": [
    "auto_predictions = pd.read_csv(\"C:/Users/Hp/Desktop/MSC 550/auto_potential_customers_2022.csv\")"
   ]
  },
  {
   "cell_type": "code",
   "execution_count": 108,
   "id": "2a1c8ea4",
   "metadata": {},
   "outputs": [
    {
     "data": {
      "text/html": [
       "<div>\n",
       "<style scoped>\n",
       "    .dataframe tbody tr th:only-of-type {\n",
       "        vertical-align: middle;\n",
       "    }\n",
       "\n",
       "    .dataframe tbody tr th {\n",
       "        vertical-align: top;\n",
       "    }\n",
       "\n",
       "    .dataframe thead th {\n",
       "        text-align: right;\n",
       "    }\n",
       "</style>\n",
       "<table border=\"1\" class=\"dataframe\">\n",
       "  <thead>\n",
       "    <tr style=\"text-align: right;\">\n",
       "      <th></th>\n",
       "      <th>quote_number</th>\n",
       "      <th>gender</th>\n",
       "      <th>agecat</th>\n",
       "      <th>date_of_birth</th>\n",
       "      <th>credit_score</th>\n",
       "      <th>area</th>\n",
       "      <th>traffic_index</th>\n",
       "      <th>veh_age</th>\n",
       "      <th>veh_body</th>\n",
       "      <th>veh_value</th>\n",
       "      <th>numclaims</th>\n",
       "    </tr>\n",
       "  </thead>\n",
       "  <tbody>\n",
       "    <tr>\n",
       "      <th>0</th>\n",
       "      <td>29323463</td>\n",
       "      <td>F</td>\n",
       "      <td>4.0</td>\n",
       "      <td>4/14/1968</td>\n",
       "      <td>750.0</td>\n",
       "      <td>C</td>\n",
       "      <td>124.5</td>\n",
       "      <td>2</td>\n",
       "      <td>HBACK</td>\n",
       "      <td>1.100</td>\n",
       "      <td>0</td>\n",
       "    </tr>\n",
       "    <tr>\n",
       "      <th>1</th>\n",
       "      <td>16732441</td>\n",
       "      <td>M</td>\n",
       "      <td>2.0</td>\n",
       "      <td>10/4/1984</td>\n",
       "      <td>567.0</td>\n",
       "      <td>F</td>\n",
       "      <td>NaN</td>\n",
       "      <td>3</td>\n",
       "      <td>STNWG</td>\n",
       "      <td>2.079</td>\n",
       "      <td>0</td>\n",
       "    </tr>\n",
       "    <tr>\n",
       "      <th>2</th>\n",
       "      <td>68744228</td>\n",
       "      <td>M</td>\n",
       "      <td>4.0</td>\n",
       "      <td>11/30/1962</td>\n",
       "      <td>378.0</td>\n",
       "      <td>D</td>\n",
       "      <td>111.4</td>\n",
       "      <td>3</td>\n",
       "      <td>HDTOP</td>\n",
       "      <td>2.354</td>\n",
       "      <td>1</td>\n",
       "    </tr>\n",
       "    <tr>\n",
       "      <th>3</th>\n",
       "      <td>30875047</td>\n",
       "      <td>F</td>\n",
       "      <td>3.0</td>\n",
       "      <td>5/17/1973</td>\n",
       "      <td>807.0</td>\n",
       "      <td>E</td>\n",
       "      <td>NaN</td>\n",
       "      <td>4</td>\n",
       "      <td>UTE</td>\n",
       "      <td>1.969</td>\n",
       "      <td>0</td>\n",
       "    </tr>\n",
       "    <tr>\n",
       "      <th>4</th>\n",
       "      <td>37049210</td>\n",
       "      <td>M</td>\n",
       "      <td>6.0</td>\n",
       "      <td>10/2/1945</td>\n",
       "      <td>844.0</td>\n",
       "      <td>C</td>\n",
       "      <td>111.0</td>\n",
       "      <td>1</td>\n",
       "      <td>HBACK</td>\n",
       "      <td>1.969</td>\n",
       "      <td>0</td>\n",
       "    </tr>\n",
       "    <tr>\n",
       "      <th>...</th>\n",
       "      <td>...</td>\n",
       "      <td>...</td>\n",
       "      <td>...</td>\n",
       "      <td>...</td>\n",
       "      <td>...</td>\n",
       "      <td>...</td>\n",
       "      <td>...</td>\n",
       "      <td>...</td>\n",
       "      <td>...</td>\n",
       "      <td>...</td>\n",
       "      <td>...</td>\n",
       "    </tr>\n",
       "    <tr>\n",
       "      <th>7459</th>\n",
       "      <td>95907219</td>\n",
       "      <td>F</td>\n",
       "      <td>4.0</td>\n",
       "      <td>1/7/1966</td>\n",
       "      <td>690.0</td>\n",
       "      <td>D</td>\n",
       "      <td>71.4</td>\n",
       "      <td>4</td>\n",
       "      <td>STNWG</td>\n",
       "      <td>1.056</td>\n",
       "      <td>0</td>\n",
       "    </tr>\n",
       "    <tr>\n",
       "      <th>7460</th>\n",
       "      <td>73906733</td>\n",
       "      <td>M</td>\n",
       "      <td>5.0</td>\n",
       "      <td>5/25/1958</td>\n",
       "      <td>558.0</td>\n",
       "      <td>C</td>\n",
       "      <td>142.5</td>\n",
       "      <td>1</td>\n",
       "      <td>STNWG</td>\n",
       "      <td>4.521</td>\n",
       "      <td>0</td>\n",
       "    </tr>\n",
       "    <tr>\n",
       "      <th>7461</th>\n",
       "      <td>45407372</td>\n",
       "      <td>F</td>\n",
       "      <td>4.0</td>\n",
       "      <td>9/2/1966</td>\n",
       "      <td>527.0</td>\n",
       "      <td>A</td>\n",
       "      <td>62.7</td>\n",
       "      <td>1</td>\n",
       "      <td>STNWG</td>\n",
       "      <td>3.102</td>\n",
       "      <td>0</td>\n",
       "    </tr>\n",
       "    <tr>\n",
       "      <th>7462</th>\n",
       "      <td>41423165</td>\n",
       "      <td>M</td>\n",
       "      <td>5.0</td>\n",
       "      <td>8/9/1958</td>\n",
       "      <td>817.0</td>\n",
       "      <td>B</td>\n",
       "      <td>129.0</td>\n",
       "      <td>4</td>\n",
       "      <td>SEDAN</td>\n",
       "      <td>0.803</td>\n",
       "      <td>0</td>\n",
       "    </tr>\n",
       "    <tr>\n",
       "      <th>7463</th>\n",
       "      <td>26967805</td>\n",
       "      <td>M</td>\n",
       "      <td>6.0</td>\n",
       "      <td>8/24/1940</td>\n",
       "      <td>543.0</td>\n",
       "      <td>A</td>\n",
       "      <td>74.9</td>\n",
       "      <td>2</td>\n",
       "      <td>SEDAN</td>\n",
       "      <td>1.177</td>\n",
       "      <td>0</td>\n",
       "    </tr>\n",
       "  </tbody>\n",
       "</table>\n",
       "<p>7464 rows × 11 columns</p>\n",
       "</div>"
      ],
      "text/plain": [
       "      quote_number gender  agecat date_of_birth  credit_score area  \\\n",
       "0         29323463      F     4.0     4/14/1968         750.0    C   \n",
       "1         16732441      M     2.0     10/4/1984         567.0    F   \n",
       "2         68744228      M     4.0    11/30/1962         378.0    D   \n",
       "3         30875047      F     3.0     5/17/1973         807.0    E   \n",
       "4         37049210      M     6.0     10/2/1945         844.0    C   \n",
       "...            ...    ...     ...           ...           ...  ...   \n",
       "7459      95907219      F     4.0      1/7/1966         690.0    D   \n",
       "7460      73906733      M     5.0     5/25/1958         558.0    C   \n",
       "7461      45407372      F     4.0      9/2/1966         527.0    A   \n",
       "7462      41423165      M     5.0      8/9/1958         817.0    B   \n",
       "7463      26967805      M     6.0     8/24/1940         543.0    A   \n",
       "\n",
       "      traffic_index  veh_age veh_body  veh_value  numclaims  \n",
       "0             124.5        2    HBACK      1.100          0  \n",
       "1               NaN        3    STNWG      2.079          0  \n",
       "2             111.4        3    HDTOP      2.354          1  \n",
       "3               NaN        4      UTE      1.969          0  \n",
       "4             111.0        1    HBACK      1.969          0  \n",
       "...             ...      ...      ...        ...        ...  \n",
       "7459           71.4        4    STNWG      1.056          0  \n",
       "7460          142.5        1    STNWG      4.521          0  \n",
       "7461           62.7        1    STNWG      3.102          0  \n",
       "7462          129.0        4    SEDAN      0.803          0  \n",
       "7463           74.9        2    SEDAN      1.177          0  \n",
       "\n",
       "[7464 rows x 11 columns]"
      ]
     },
     "execution_count": 108,
     "metadata": {},
     "output_type": "execute_result"
    }
   ],
   "source": [
    "#Define x and y, training and test datasets\n",
    "x_train = auto_train.drop(['numclaims', 'claimcst0'], axis = 1)\n",
    "y1_train = auto_train.numclaims\n",
    "\n",
    "x_test = auto_test\n",
    "\n",
    "knn = KNeighborsClassifier(n_neighbors = 5) \n",
    "knn.fit(x_train, y1_train) # fit the algorithim in the dataset\n",
    "numclaims_predictions = knn.predict(x_test) # use x to predict y after fitting the data\n",
    "\n",
    "auto_predictions['numclaims'] = numclaims_predictions\n",
    "auto_predictions"
   ]
  },
  {
   "cell_type": "markdown",
   "id": "c93f8d3f",
   "metadata": {},
   "source": [
    "## Predict claim cost"
   ]
  },
  {
   "cell_type": "code",
   "execution_count": 109,
   "id": "91358efd",
   "metadata": {},
   "outputs": [
    {
     "data": {
      "text/html": [
       "<div>\n",
       "<style scoped>\n",
       "    .dataframe tbody tr th:only-of-type {\n",
       "        vertical-align: middle;\n",
       "    }\n",
       "\n",
       "    .dataframe tbody tr th {\n",
       "        vertical-align: top;\n",
       "    }\n",
       "\n",
       "    .dataframe thead th {\n",
       "        text-align: right;\n",
       "    }\n",
       "</style>\n",
       "<table border=\"1\" class=\"dataframe\">\n",
       "  <thead>\n",
       "    <tr style=\"text-align: right;\">\n",
       "      <th></th>\n",
       "      <th>quote_number</th>\n",
       "      <th>gender</th>\n",
       "      <th>agecat</th>\n",
       "      <th>date_of_birth</th>\n",
       "      <th>credit_score</th>\n",
       "      <th>area</th>\n",
       "      <th>traffic_index</th>\n",
       "      <th>veh_age</th>\n",
       "      <th>veh_body</th>\n",
       "      <th>veh_value</th>\n",
       "      <th>numclaims</th>\n",
       "      <th>claimcst0</th>\n",
       "    </tr>\n",
       "  </thead>\n",
       "  <tbody>\n",
       "    <tr>\n",
       "      <th>0</th>\n",
       "      <td>29323463</td>\n",
       "      <td>F</td>\n",
       "      <td>4.0</td>\n",
       "      <td>4/14/1968</td>\n",
       "      <td>750.0</td>\n",
       "      <td>C</td>\n",
       "      <td>124.5</td>\n",
       "      <td>2</td>\n",
       "      <td>HBACK</td>\n",
       "      <td>1.100</td>\n",
       "      <td>0</td>\n",
       "      <td>17.944455</td>\n",
       "    </tr>\n",
       "    <tr>\n",
       "      <th>1</th>\n",
       "      <td>16732441</td>\n",
       "      <td>M</td>\n",
       "      <td>2.0</td>\n",
       "      <td>10/4/1984</td>\n",
       "      <td>567.0</td>\n",
       "      <td>F</td>\n",
       "      <td>NaN</td>\n",
       "      <td>3</td>\n",
       "      <td>STNWG</td>\n",
       "      <td>2.079</td>\n",
       "      <td>0</td>\n",
       "      <td>1357.150976</td>\n",
       "    </tr>\n",
       "    <tr>\n",
       "      <th>2</th>\n",
       "      <td>68744228</td>\n",
       "      <td>M</td>\n",
       "      <td>4.0</td>\n",
       "      <td>11/30/1962</td>\n",
       "      <td>378.0</td>\n",
       "      <td>D</td>\n",
       "      <td>111.4</td>\n",
       "      <td>3</td>\n",
       "      <td>HDTOP</td>\n",
       "      <td>2.354</td>\n",
       "      <td>1</td>\n",
       "      <td>5426.584291</td>\n",
       "    </tr>\n",
       "    <tr>\n",
       "      <th>3</th>\n",
       "      <td>30875047</td>\n",
       "      <td>F</td>\n",
       "      <td>3.0</td>\n",
       "      <td>5/17/1973</td>\n",
       "      <td>807.0</td>\n",
       "      <td>E</td>\n",
       "      <td>NaN</td>\n",
       "      <td>4</td>\n",
       "      <td>UTE</td>\n",
       "      <td>1.969</td>\n",
       "      <td>0</td>\n",
       "      <td>0.000000</td>\n",
       "    </tr>\n",
       "    <tr>\n",
       "      <th>4</th>\n",
       "      <td>37049210</td>\n",
       "      <td>M</td>\n",
       "      <td>6.0</td>\n",
       "      <td>10/2/1945</td>\n",
       "      <td>844.0</td>\n",
       "      <td>C</td>\n",
       "      <td>111.0</td>\n",
       "      <td>1</td>\n",
       "      <td>HBACK</td>\n",
       "      <td>1.969</td>\n",
       "      <td>0</td>\n",
       "      <td>0.000000</td>\n",
       "    </tr>\n",
       "    <tr>\n",
       "      <th>...</th>\n",
       "      <td>...</td>\n",
       "      <td>...</td>\n",
       "      <td>...</td>\n",
       "      <td>...</td>\n",
       "      <td>...</td>\n",
       "      <td>...</td>\n",
       "      <td>...</td>\n",
       "      <td>...</td>\n",
       "      <td>...</td>\n",
       "      <td>...</td>\n",
       "      <td>...</td>\n",
       "      <td>...</td>\n",
       "    </tr>\n",
       "    <tr>\n",
       "      <th>7459</th>\n",
       "      <td>95907219</td>\n",
       "      <td>F</td>\n",
       "      <td>4.0</td>\n",
       "      <td>1/7/1966</td>\n",
       "      <td>690.0</td>\n",
       "      <td>D</td>\n",
       "      <td>71.4</td>\n",
       "      <td>4</td>\n",
       "      <td>STNWG</td>\n",
       "      <td>1.056</td>\n",
       "      <td>0</td>\n",
       "      <td>0.000000</td>\n",
       "    </tr>\n",
       "    <tr>\n",
       "      <th>7460</th>\n",
       "      <td>73906733</td>\n",
       "      <td>M</td>\n",
       "      <td>5.0</td>\n",
       "      <td>5/25/1958</td>\n",
       "      <td>558.0</td>\n",
       "      <td>C</td>\n",
       "      <td>142.5</td>\n",
       "      <td>1</td>\n",
       "      <td>STNWG</td>\n",
       "      <td>4.521</td>\n",
       "      <td>0</td>\n",
       "      <td>252.135516</td>\n",
       "    </tr>\n",
       "    <tr>\n",
       "      <th>7461</th>\n",
       "      <td>45407372</td>\n",
       "      <td>F</td>\n",
       "      <td>4.0</td>\n",
       "      <td>9/2/1966</td>\n",
       "      <td>527.0</td>\n",
       "      <td>A</td>\n",
       "      <td>62.7</td>\n",
       "      <td>1</td>\n",
       "      <td>STNWG</td>\n",
       "      <td>3.102</td>\n",
       "      <td>0</td>\n",
       "      <td>143.535621</td>\n",
       "    </tr>\n",
       "    <tr>\n",
       "      <th>7462</th>\n",
       "      <td>41423165</td>\n",
       "      <td>M</td>\n",
       "      <td>5.0</td>\n",
       "      <td>8/9/1958</td>\n",
       "      <td>817.0</td>\n",
       "      <td>B</td>\n",
       "      <td>129.0</td>\n",
       "      <td>4</td>\n",
       "      <td>SEDAN</td>\n",
       "      <td>0.803</td>\n",
       "      <td>0</td>\n",
       "      <td>0.000000</td>\n",
       "    </tr>\n",
       "    <tr>\n",
       "      <th>7463</th>\n",
       "      <td>26967805</td>\n",
       "      <td>M</td>\n",
       "      <td>6.0</td>\n",
       "      <td>8/24/1940</td>\n",
       "      <td>543.0</td>\n",
       "      <td>A</td>\n",
       "      <td>74.9</td>\n",
       "      <td>2</td>\n",
       "      <td>SEDAN</td>\n",
       "      <td>1.177</td>\n",
       "      <td>0</td>\n",
       "      <td>628.996907</td>\n",
       "    </tr>\n",
       "  </tbody>\n",
       "</table>\n",
       "<p>7464 rows × 12 columns</p>\n",
       "</div>"
      ],
      "text/plain": [
       "      quote_number gender  agecat date_of_birth  credit_score area  \\\n",
       "0         29323463      F     4.0     4/14/1968         750.0    C   \n",
       "1         16732441      M     2.0     10/4/1984         567.0    F   \n",
       "2         68744228      M     4.0    11/30/1962         378.0    D   \n",
       "3         30875047      F     3.0     5/17/1973         807.0    E   \n",
       "4         37049210      M     6.0     10/2/1945         844.0    C   \n",
       "...            ...    ...     ...           ...           ...  ...   \n",
       "7459      95907219      F     4.0      1/7/1966         690.0    D   \n",
       "7460      73906733      M     5.0     5/25/1958         558.0    C   \n",
       "7461      45407372      F     4.0      9/2/1966         527.0    A   \n",
       "7462      41423165      M     5.0      8/9/1958         817.0    B   \n",
       "7463      26967805      M     6.0     8/24/1940         543.0    A   \n",
       "\n",
       "      traffic_index  veh_age veh_body  veh_value  numclaims    claimcst0  \n",
       "0             124.5        2    HBACK      1.100          0    17.944455  \n",
       "1               NaN        3    STNWG      2.079          0  1357.150976  \n",
       "2             111.4        3    HDTOP      2.354          1  5426.584291  \n",
       "3               NaN        4      UTE      1.969          0     0.000000  \n",
       "4             111.0        1    HBACK      1.969          0     0.000000  \n",
       "...             ...      ...      ...        ...        ...          ...  \n",
       "7459           71.4        4    STNWG      1.056          0     0.000000  \n",
       "7460          142.5        1    STNWG      4.521          0   252.135516  \n",
       "7461           62.7        1    STNWG      3.102          0   143.535621  \n",
       "7462          129.0        4    SEDAN      0.803          0     0.000000  \n",
       "7463           74.9        2    SEDAN      1.177          0   628.996907  \n",
       "\n",
       "[7464 rows x 12 columns]"
      ]
     },
     "execution_count": 109,
     "metadata": {},
     "output_type": "execute_result"
    }
   ],
   "source": [
    "#Define x and y, training and test datasets\n",
    "x_train = auto_train.drop(['numclaims', 'claimcst0'], axis = 1)\n",
    "y2_train = auto_train.claimcst0\n",
    "\n",
    "x_test = auto_test\n",
    "y2_test = []\n",
    "\n",
    "# storing our numeric results\n",
    "results = []\n",
    "\n",
    "# Initialize a decision tree regression model with specific parameters\n",
    "knn_reg = KNeighborsRegressor(weights = 'uniform',algorithm = 'auto',n_neighbors = 8,p = 2)\n",
    "# Train the decision tree regressor\n",
    "knn_reg = knn_reg.fit(x_train,y2_train)\n",
    "# Get prediction from decision tree regressor\n",
    "y_pred = knn_reg.predict(x_test)\n",
    "\n",
    "\n",
    "auto_predictions['claimcst0'] = y_pred\n",
    "auto_predictions"
   ]
  },
  {
   "cell_type": "code",
   "execution_count": 112,
   "id": "da3f90c9",
   "metadata": {},
   "outputs": [
    {
     "data": {
      "image/png": "[encoded data removed]",
      "text/plain": [
       "<Figure size 432x288 with 1 Axes>"
      ]
     },
     "metadata": {
      "needs_background": "light"
     },
     "output_type": "display_data"
    }
   ],
   "source": [
    "numclaims_unique = auto_predictions['numclaims'].unique() #define x axis\n",
    "numclaims_values =auto_predictions['numclaims'].value_counts() # define y axis\n",
    "\n",
    "plt.bar(numclaims_unique , numclaims_values, color ='maroon',\n",
    "        width = 0.4)\n",
    " \n",
    "plt.xlabel(\"numclaims.unique\")\n",
    "plt.ylabel(\"numclaims.value_count\")\n",
    "plt.title(\"Predicted numclaims visualization\")\n",
    "plt.show()"
   ]
  },
  {
   "cell_type": "code",
   "execution_count": 116,
   "id": "5d0c2a18",
   "metadata": {},
   "outputs": [
    {
     "data": {
      "text/plain": [
       "count     7464.000000\n",
       "mean       516.939258\n",
       "std       1322.385032\n",
       "min          0.000000\n",
       "25%          0.000000\n",
       "50%         47.493297\n",
       "75%        333.057423\n",
       "max      15684.985725\n",
       "Name: claimcst0, dtype: float64"
      ]
     },
     "execution_count": 116,
     "metadata": {},
     "output_type": "execute_result"
    }
   ],
   "source": [
    "auto_predictions['claimcst0'].describe()"
   ]
  },
  {
   "cell_type": "code",
   "execution_count": 124,
   "id": "e1dc6b86",
   "metadata": {},
   "outputs": [
    {
     "data": {
      "image/png": "[encoded data removed]",
      "text/plain": [
       "<Figure size 1440x1440 with 1 Axes>"
      ]
     },
     "metadata": {
      "needs_background": "light"
     },
     "output_type": "display_data"
    }
   ],
   "source": [
    "ig, axes = plt.subplots(1, 1, figsize = (20,20)) # Create grid of subplots using Seaborn\n",
    "\n",
    "ax = sns.boxplot(data = auto_predictions, x = \"numclaims\", y = \"claimcst0\") # Define first plot\n",
    "ax.set_xlabel('numclaims', fontsize = 20) # Parameters for first plot, making x label bigger\n",
    "ax.set_ylabel(\"claimcst0\", fontsize = 20) # Parameters for first plot, making y label bigger\n",
    "ax.tick_params(axis='x', labelsize=16)# Parameters for first plot, making x tick marks bigger\n",
    "ax.tick_params(axis='y', labelsize=16)# Parameters for first plot, making y tick marks bigger"
   ]
  },
  {
   "cell_type": "code",
   "execution_count": 126,
   "id": "d7507b2e",
   "metadata": {},
   "outputs": [],
   "source": [
    "auto_predictions.to_csv('C:/Users/Hp/Desktop/MSC 550/auto_potential_customers_final_2022.csv',  index = False) # download csv file"
   ]
  }
 ],
 "metadata": {
  "kernelspec": {
   "display_name": "Python 3 (ipykernel)",
   "language": "python",
   "name": "python3"
  },
  "language_info": {
   "codemirror_mode": {
    "name": "ipython",
    "version": 3
   },
   "file_extension": ".py",
   "mimetype": "text/x-python",
   "name": "python",
   "nbconvert_exporter": "python",
   "pygments_lexer": "ipython3",
   "version": "3.9.7"
  }
 },
 "nbformat": 4,
 "nbformat_minor": 5
}
